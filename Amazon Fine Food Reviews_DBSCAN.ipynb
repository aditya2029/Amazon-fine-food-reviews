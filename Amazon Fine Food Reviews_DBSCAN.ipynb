{
 "cells": [
  {
   "cell_type": "code",
   "execution_count": 1,
   "metadata": {},
   "outputs": [
    {
     "name": "stderr",
     "output_type": "stream",
     "text": [
      "c:\\users\\aditya pandey\\appdata\\local\\programs\\python\\python36\\lib\\site-packages\\gensim\\utils.py:1212: UserWarning: detected Windows; aliasing chunkize to chunkize_serial\n",
      "  warnings.warn(\"detected Windows; aliasing chunkize to chunkize_serial\")\n"
     ]
    }
   ],
   "source": [
    "# Importing libraries\n",
    "import warnings\n",
    "warnings.filterwarnings(\"ignore\")\n",
    "\n",
    "import sqlite3\n",
    "import pandas as pd\n",
    "import numpy as np\n",
    "import nltk\n",
    "import string\n",
    "import matplotlib.pyplot as plt\n",
    "%matplotlib inline\n",
    "import seaborn as sns\n",
    "from sklearn.feature_extraction.text import TfidfTransformer\n",
    "from sklearn.feature_extraction.text import TfidfVectorizer\n",
    "\n",
    "from sklearn.feature_extraction.text import CountVectorizer\n",
    "from nltk.stem.porter import PorterStemmer\n",
    "\n",
    "import re\n",
    "\n",
    "import string\n",
    "from nltk.corpus import stopwords\n",
    "from nltk.stem import PorterStemmer\n",
    "from nltk.stem.wordnet import WordNetLemmatizer\n",
    "\n",
    "from gensim.models import Word2Vec\n",
    "from gensim.models import KeyedVectors\n",
    "import pickle"
   ]
  },
  {
   "cell_type": "code",
   "execution_count": 3,
   "metadata": {},
   "outputs": [
    {
     "data": {
      "text/html": [
       "<div>\n",
       "<style scoped>\n",
       "    .dataframe tbody tr th:only-of-type {\n",
       "        vertical-align: middle;\n",
       "    }\n",
       "\n",
       "    .dataframe tbody tr th {\n",
       "        vertical-align: top;\n",
       "    }\n",
       "\n",
       "    .dataframe thead th {\n",
       "        text-align: right;\n",
       "    }\n",
       "</style>\n",
       "<table border=\"1\" class=\"dataframe\">\n",
       "  <thead>\n",
       "    <tr style=\"text-align: right;\">\n",
       "      <th></th>\n",
       "      <th>Id</th>\n",
       "      <th>ProductId</th>\n",
       "      <th>UserId</th>\n",
       "      <th>ProfileName</th>\n",
       "      <th>HelpfulnessNumerator</th>\n",
       "      <th>HelpfulnessDenominator</th>\n",
       "      <th>Score</th>\n",
       "      <th>Time</th>\n",
       "      <th>Summary</th>\n",
       "      <th>Text</th>\n",
       "    </tr>\n",
       "  </thead>\n",
       "  <tbody>\n",
       "    <tr>\n",
       "      <th>0</th>\n",
       "      <td>1</td>\n",
       "      <td>B001E4KFG0</td>\n",
       "      <td>A3SGXH7AUHU8GW</td>\n",
       "      <td>delmartian</td>\n",
       "      <td>1</td>\n",
       "      <td>1</td>\n",
       "      <td>positive</td>\n",
       "      <td>1303862400</td>\n",
       "      <td>Good Quality Dog Food</td>\n",
       "      <td>I have bought several of the Vitality canned d...</td>\n",
       "    </tr>\n",
       "    <tr>\n",
       "      <th>1</th>\n",
       "      <td>2</td>\n",
       "      <td>B00813GRG4</td>\n",
       "      <td>A1D87F6ZCVE5NK</td>\n",
       "      <td>dll pa</td>\n",
       "      <td>0</td>\n",
       "      <td>0</td>\n",
       "      <td>negetive</td>\n",
       "      <td>1346976000</td>\n",
       "      <td>Not as Advertised</td>\n",
       "      <td>Product arrived labeled as Jumbo Salted Peanut...</td>\n",
       "    </tr>\n",
       "    <tr>\n",
       "      <th>2</th>\n",
       "      <td>3</td>\n",
       "      <td>B000LQOCH0</td>\n",
       "      <td>ABXLMWJIXXAIN</td>\n",
       "      <td>Natalia Corres \"Natalia Corres\"</td>\n",
       "      <td>1</td>\n",
       "      <td>1</td>\n",
       "      <td>positive</td>\n",
       "      <td>1219017600</td>\n",
       "      <td>\"Delight\" says it all</td>\n",
       "      <td>This is a confection that has been around a fe...</td>\n",
       "    </tr>\n",
       "  </tbody>\n",
       "</table>\n",
       "</div>"
      ],
      "text/plain": [
       "   Id   ProductId          UserId                      ProfileName  \\\n",
       "0   1  B001E4KFG0  A3SGXH7AUHU8GW                       delmartian   \n",
       "1   2  B00813GRG4  A1D87F6ZCVE5NK                           dll pa   \n",
       "2   3  B000LQOCH0   ABXLMWJIXXAIN  Natalia Corres \"Natalia Corres\"   \n",
       "\n",
       "   HelpfulnessNumerator  HelpfulnessDenominator     Score        Time  \\\n",
       "0                     1                       1  positive  1303862400   \n",
       "1                     0                       0  negetive  1346976000   \n",
       "2                     1                       1  positive  1219017600   \n",
       "\n",
       "                 Summary                                               Text  \n",
       "0  Good Quality Dog Food  I have bought several of the Vitality canned d...  \n",
       "1      Not as Advertised  Product arrived labeled as Jumbo Salted Peanut...  \n",
       "2  \"Delight\" says it all  This is a confection that has been around a fe...  "
      ]
     },
     "execution_count": 3,
     "metadata": {},
     "output_type": "execute_result"
    }
   ],
   "source": [
    "con1 = sqlite3.connect(\"database.sqlite\")\n",
    "\n",
    "filtered_data = pd.read_sql_query(\"SELECT * FROM Reviews WHERE Score != 3 LIMIT 5000\", con1)\n",
    "\n",
    "def partition(x):\n",
    "    \n",
    "    if x > 3:\n",
    "        return \"positive\"\n",
    "    return \"negetive\"\n",
    "\n",
    "actualScore = filtered_data[\"Score\"]\n",
    "positiveNegetive = actualScore.map(partition)\n",
    "filtered_data[\"Score\"] = positiveNegetive\n",
    "\n",
    "filtered_data.head(3)"
   ]
  },
  {
   "cell_type": "code",
   "execution_count": 5,
   "metadata": {},
   "outputs": [
    {
     "name": "stdout",
     "output_type": "stream",
     "text": [
      "(4986, 10)\n"
     ]
    }
   ],
   "source": [
    "sorted_data = filtered_data.sort_values(\"ProductId\", axis=0, ascending = True, inplace = False,\\\n",
    "                                       kind = \"quicksort\", na_position = \"last\")\n",
    "\n",
    "# deduplication\n",
    "final = sorted_data.drop_duplicates(subset={\"UserId\",\"ProfileName\",\"Time\",\"Text\"}, keep=\"first\",inplace = False)\n",
    "final = final[final.HelpfulnessNumerator <= final.HelpfulnessDenominator]\n",
    "\n",
    "print(final.shape)"
   ]
  },
  {
   "cell_type": "code",
   "execution_count": 6,
   "metadata": {},
   "outputs": [],
   "source": [
    "from nltk.corpus import stopwords\n",
    "stop = set(stopwords.words('english'))\n",
    "words_to_keep = set(('not'))\n",
    "stop -= words_to_keep\n",
    "#initialising the snowball stemmer\n",
    "sno = nltk.stem.SnowballStemmer('english')\n",
    "\n",
    " #function to clean the word of any html-tags\n",
    "def cleanhtml(sentence):\n",
    "    cleanr = re.compile('<.*?>')\n",
    "    cleantext = re.sub(cleanr, ' ', sentence)\n",
    "    return cleantext\n",
    "\n",
    "#function to clean the word of any punctuation or special characters\n",
    "def cleanpunc(sentence): \n",
    "    cleaned = re.sub(r'[?|!|\\'|\"|#]',r'',sentence)\n",
    "    cleaned = re.sub(r'[.|,|)|(|\\|/]',r' ',cleaned)\n",
    "    return  cleaned"
   ]
  },
  {
   "cell_type": "code",
   "execution_count": 7,
   "metadata": {},
   "outputs": [],
   "source": [
    "i=0\n",
    "str1=' '\n",
    "final_string=[]\n",
    "all_positive_words=[] # store words from +ve reviews here\n",
    "all_negative_words=[] # store words from -ve reviews here.\n",
    "s=''\n",
    "for sent in final['Text'].values:\n",
    "    filtered_sentence=[]\n",
    "    #print(sent);\n",
    "    sent=cleanhtml(sent) # remove HTMl tags\n",
    "    for w in sent.split():\n",
    "        for cleaned_words in cleanpunc(w).split():\n",
    "            if((cleaned_words.isalpha()) & (len(cleaned_words)>2)):    \n",
    "                if(cleaned_words.lower() not in stop):\n",
    "                    s=(sno.stem(cleaned_words.lower())).encode('utf8')\n",
    "                    filtered_sentence.append(s)\n",
    "                    if (final['Score'].values)[i] == 'positive': \n",
    "                        all_positive_words.append(s) #list of all words used to describe positive reviews\n",
    "                    if(final['Score'].values)[i] == 'negative':\n",
    "                        all_negative_words.append(s) #list of all words used to describe negative reviews reviews\n",
    "                else:\n",
    "                    continue\n",
    "            else:\n",
    "                continue \n",
    "    \n",
    "    str1 = b\" \".join(filtered_sentence) #final string of cleaned words\n",
    "    \n",
    "    \n",
    "    final_string.append(str1)\n",
    "    i+=1"
   ]
  },
  {
   "cell_type": "code",
   "execution_count": 8,
   "metadata": {},
   "outputs": [
    {
     "name": "stdout",
     "output_type": "stream",
     "text": [
      "(4986, 11)\n"
     ]
    }
   ],
   "source": [
    "final[\"CleanedText\"] = final_string\n",
    "final[\"CleanedText\"] = final[\"CleanedText\"].str.decode(\"utf-8\")\n",
    "print(final.shape)"
   ]
  },
  {
   "cell_type": "code",
   "execution_count": 12,
   "metadata": {},
   "outputs": [
    {
     "name": "stdout",
     "output_type": "stream",
     "text": [
      "['love love love year old drink herbal tea quit often tasti'\n",
      " 'like earth best babi food line organ ingredi amazon great price especi subscrib free deliveri doorstop conveni your busi mom daughter doesnt like lot babi food eat one review state bit runnier eb stage food add oatmeal also bit bland add dash cinnamon heat ad bonus work wonder digest tract problem constip month sometim go day give suppositori discov food make poop everi time also start give sippi cup water meal day help fiber rate instead star main ingredi sweet potato apricot rather sweet potato chicken wish chicken protein'\n",
      " 'brew cup make thin good point ad creamer whip cream cinamin alway improv'\n",
      " ...\n",
      " 'ive eat ramen noodl sinc littl kid ive never found better flavor hot spici chicken isnt hot chilihead like sure good'\n",
      " 'must bit wuss soup tast imagin fire might tast typic like spici food good flavor dont find case soup flavor kill burn'\n",
      " 'ive never heard safcol brand tire tri typic starkist chicken sea realli surpris thought bit better brand less season']\n"
     ]
    }
   ],
   "source": [
    "# Sort the data wrt time\n",
    "\n",
    "time_sorted_data = final.sort_values(\"Time\", axis=0, ascending=True, inplace = False, kind=\"quicksort\", na_position = \"last\")\n",
    "my_final = time_sorted_data.take(np.random.permutation(len(final)))\n",
    "\n",
    "x = my_final[\"CleanedText\"].values\n",
    "print(x)"
   ]
  },
  {
   "cell_type": "markdown",
   "metadata": {},
   "source": [
    "## BoW"
   ]
  },
  {
   "cell_type": "code",
   "execution_count": 13,
   "metadata": {},
   "outputs": [
    {
     "name": "stdout",
     "output_type": "stream",
     "text": [
      "the type of count vectorizer : <class 'scipy.sparse.csr.csr_matrix'>\n",
      "the shape of out text BOW vectorizer :  (4986, 1854)\n",
      "the number of unique words : 1854\n"
     ]
    }
   ],
   "source": [
    "count_vect = CountVectorizer(min_df = 10) \n",
    "data_vec = count_vect.fit_transform(x)\n",
    "print(\"the type of count vectorizer :\",type(data_vec))\n",
    "print(\"the shape of out text BOW vectorizer : \",data_vec.get_shape())\n",
    "print(\"the number of unique words :\", data_vec.get_shape()[1])\n",
    "\n",
    "# Converting sparse matrix to dense matrix\n",
    "data_dense = data_vec.toarray()\n",
    "\n",
    "# Standardising the data\n",
    "import warnings\n",
    "warnings.filterwarnings('ignore')\n",
    "from sklearn.preprocessing import StandardScaler\n",
    "data = StandardScaler().fit_transform(data_dense)\n",
    "from sklearn.decomposition import TruncatedSVD\n",
    "svd = TruncatedSVD(n_components=100)\n",
    "data = svd.fit_transform(data)"
   ]
  },
  {
   "cell_type": "code",
   "execution_count": 16,
   "metadata": {},
   "outputs": [],
   "source": [
    "# function for n-nearest neighbours\n",
    "def n_neighbour(vectors , n):\n",
    "    distance = []\n",
    "    for point in vectors:\n",
    "        temp = np.sort(np.sum((vectors-point)**2,axis=1),axis=None)\n",
    "        distance.append(temp[n])\n",
    "    return np.sqrt(np.array(distance))"
   ]
  },
  {
   "cell_type": "code",
   "execution_count": 14,
   "metadata": {},
   "outputs": [],
   "source": [
    "\n",
    "def dbscan(epsilon, samples, Data):\n",
    "    from sklearn.cluster import DBSCAN\n",
    "    db = DBSCAN(eps=epsilon, min_samples=samples, n_jobs=-1).fit(Data)\n",
    "    \n",
    "    # Number of clusters in labels, ignoring noise(-1) if present.\n",
    "    n_clusters = len(set(db.labels_))\n",
    "    print(\"Number of clusters for MinPts = %d and Epsilon = %f is : %d \"%(samples,epsilon,n_clusters))\n",
    "    print(\"Labels(-1 is for Noise) : \",set(db.labels_))\n",
    "    print()\n",
    "    return db"
   ]
  },
  {
   "cell_type": "code",
   "execution_count": 17,
   "metadata": {},
   "outputs": [
    {
     "data": {
      "image/png": "[encoded data removed]",
      "text/plain": [
       "<Figure size 432x288 with 1 Axes>"
      ]
     },
     "metadata": {},
     "output_type": "display_data"
    }
   ],
   "source": [
    "min_points = 2*data.shape[1]\n",
    "\n",
    "# Computing distances of nth-nearest neighbours\n",
    "distances = n_neighbour(data,min_points)\n",
    "sorted_distance = np.sort(distances)\n",
    "points = [i for i in range(data.shape[0])]\n",
    "\n",
    "# Draw distances(d_i) VS points(x_i) plot\n",
    "plt.plot(points, sorted_distance)\n",
    "plt.xlabel('Points (x_i)',size=14)\n",
    "plt.ylabel('Distances (d_i)',size=14)\n",
    "plt.title('Distances VS Points Plot\\n',size=18)\n",
    "plt.grid()\n",
    "plt.show()"
   ]
  },
  {
   "cell_type": "code",
   "execution_count": 18,
   "metadata": {},
   "outputs": [
    {
     "name": "stdout",
     "output_type": "stream",
     "text": [
      "Number of clusters for MinPts = 200 and Epsilon = 30.000000 is : 2 \n",
      "Labels(-1 is for Noise) :  {0, -1}\n",
      "\n",
      "Number of clusters for MinPts = 200 and Epsilon = 40.000000 is : 2 \n",
      "Labels(-1 is for Noise) :  {0, -1}\n",
      "\n",
      "Number of clusters for MinPts = 200 and Epsilon = 50.000000 is : 2 \n",
      "Labels(-1 is for Noise) :  {0, -1}\n",
      "\n",
      "Number of clusters for MinPts = 200 and Epsilon = 60.000000 is : 2 \n",
      "Labels(-1 is for Noise) :  {0, -1}\n",
      "\n"
     ]
    }
   ],
   "source": [
    "optimal_eps = 30\n",
    "# Clustering with right epsilon\n",
    "db1 = dbscan(optimal_eps, min_points, data)\n",
    "\n",
    "\n",
    "# Clustering with  epsilon = 40\n",
    "db2 = dbscan(40, min_points, data)\n",
    "\n",
    "\n",
    "# Clustering with epsilon = 50\n",
    "db3 = dbscan(50, min_points, data)\n",
    "\n",
    "\n",
    "# Clustering with epsilon = 60\n",
    "db4 = dbscan(60, min_points, data)"
   ]
  },
  {
   "cell_type": "code",
   "execution_count": 19,
   "metadata": {},
   "outputs": [
    {
     "data": {
      "image/png": "[encoded data removed]",
      "text/plain": [
       "<Figure size 1296x648 with 4 Axes>"
      ]
     },
     "metadata": {},
     "output_type": "display_data"
    }
   ],
   "source": [
    "from sklearn.decomposition import PCA\n",
    "pca_2d = PCA(n_components=2).fit_transform(data)\n",
    "\n",
    "# Scatter plot for DBSCAN with Eps = 30\n",
    "plt.figure(figsize=(18,9))\n",
    "plt.subplot(221)\n",
    "for i in range(0, pca_2d.shape[0]):\n",
    "    if db1.labels_[i] == 0:\n",
    "        c1 = plt.scatter(pca_2d[i,0],pca_2d[i,1],c='r',marker='o')\n",
    "    elif db1.labels_[i] == -1:\n",
    "        c2 = plt.scatter(pca_2d[i,0],pca_2d[i,1],c='b',marker='+')\n",
    "plt.legend([c1, c2], ['Cluster 1', 'Noise'])  \n",
    "plt.title('DBSCAN With Eps = 30')\n",
    "plt.ylabel('Dim_2')\n",
    "\n",
    "# Scatter plot for DBSCAN with Eps = 18\n",
    "plt.subplot(222)\n",
    "for i in range(0, pca_2d.shape[0]):\n",
    "    if db2.labels_[i] == 0:\n",
    "        c1 = plt.scatter(pca_2d[i,0],pca_2d[i,1],c='r',marker='o')\n",
    "    elif db2.labels_[i] == -1:\n",
    "        c2 = plt.scatter(pca_2d[i,0],pca_2d[i,1],c='b',marker='+')\n",
    "plt.legend([c1, c2], ['Cluster 1', 'Noise'])  \n",
    "plt.title('DBSCAN With Eps = 40')\n",
    "\n",
    "# Scatter plot for DBSCAN with Eps = 20\n",
    "plt.subplot(223)\n",
    "for i in range(0, pca_2d.shape[0]):\n",
    "    if db3.labels_[i] == 0:\n",
    "        c1 = plt.scatter(pca_2d[i,0],pca_2d[i,1],c='r',marker='o')\n",
    "    elif db3.labels_[i] == -1:\n",
    "        c2 = plt.scatter(pca_2d[i,0],pca_2d[i,1],c='b',marker='+')\n",
    "plt.legend([c1, c2], ['Cluster 1', 'Noise'])  \n",
    "plt.title('DBSCAN With Eps = 50')\n",
    "plt.ylabel('Dim_2')\n",
    "plt.xlabel('Dim_1')\n",
    "\n",
    "# Scatter plot for DBSCAN with Eps = 22\n",
    "plt.subplot(224)\n",
    "for i in range(0, pca_2d.shape[0]):\n",
    "    if db4.labels_[i] == 0:\n",
    "        c1 = plt.scatter(pca_2d[i,0],pca_2d[i,1],c='r',marker='o')\n",
    "    elif db4.labels_[i] == -1:\n",
    "        c2 = plt.scatter(pca_2d[i,0],pca_2d[i,1],c='b',marker='+')\n",
    "plt.legend([c1, c2], ['Cluster 1', 'Noise'])  \n",
    "plt.title('DBSCAN With Eps = 60')\n",
    "plt.xlabel('Dim_1')\n",
    "\n",
    "plt.show()"
   ]
  },
  {
   "cell_type": "markdown",
   "metadata": {},
   "source": [
    "## Observations -->\n",
    "    \n",
    "    As the Eps increases the density of cluster increases and noise point decreases."
   ]
  }
 ],
 "metadata": {
  "kernelspec": {
   "display_name": "Python 3",
   "language": "python",
   "name": "python3"
  },
  "language_info": {
   "codemirror_mode": {
    "name": "ipython",
    "version": 3
   },
   "file_extension": ".py",
   "mimetype": "text/x-python",
   "name": "python",
   "nbconvert_exporter": "python",
   "pygments_lexer": "ipython3",
   "version": "3.6.3rc1"
  }
 },
 "nbformat": 4,
 "nbformat_minor": 2
}
